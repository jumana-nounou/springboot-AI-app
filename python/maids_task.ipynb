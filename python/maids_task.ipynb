{
  "cells": [
    {
      "cell_type": "markdown",
      "metadata": {
        "id": "0obe796uu_DG"
      },
      "source": [
        "## Imports"
      ]
    },
    {
      "cell_type": "code",
      "execution_count": 83,
      "metadata": {
        "id": "9UO1mN4ztUwC"
      },
      "outputs": [],
      "source": [
        "import pandas as pd\n",
        "from sklearn.impute import SimpleImputer\n",
        "from sklearn.preprocessing import LabelEncoder\n",
        "from sklearn.model_selection import train_test_split\n",
        "from sklearn.ensemble import RandomForestClassifier, GradientBoostingClassifier\n",
        "from sklearn.svm import SVC\n",
        "from flask import Flask, request, jsonify\n",
        "import joblib\n",
        "import numpy as np\n",
        "import seaborn as sns\n",
        "import matplotlib.pyplot as plt\n",
        "from sklearn.metrics import accuracy_score, precision_score, recall_score, f1_score\n"
      ]
    },
    {
      "cell_type": "markdown",
      "metadata": {
        "id": "ViuCqaPhvH_G"
      },
      "source": [
        "## Data Preprocessing"
      ]
    },
    {
      "cell_type": "code",
      "execution_count": 84,
      "metadata": {
        "colab": {
          "base_uri": "https://localhost:8080/"
        },
        "id": "qmVuv-c9vHIr",
        "outputId": "49eaca4c-9d67-4aa2-949d-3a0cc11c106f"
      },
      "outputs": [
        {
          "name": "stdout",
          "output_type": "stream",
          "text": [
            "   battery_power  blue  clock_speed  dual_sim    fc  four_g  int_memory  \\\n",
            "0            842     0          2.2         0   1.0     0.0         7.0   \n",
            "1           1021     1          0.5         1   0.0     1.0        53.0   \n",
            "2            563     1          0.5         1   2.0     1.0        41.0   \n",
            "3            615     1          2.5         0   0.0     0.0        10.0   \n",
            "4           1821     1          1.2         0  13.0     1.0        44.0   \n",
            "\n",
            "   m_dep  mobile_wt  n_cores  ...  px_height  px_width     ram  sc_h  sc_w  \\\n",
            "0    0.6      188.0      2.0  ...       20.0     756.0  2549.0   9.0   7.0   \n",
            "1    0.7      136.0      3.0  ...      905.0    1988.0  2631.0  17.0   3.0   \n",
            "2    0.9      145.0      5.0  ...     1263.0    1716.0  2603.0  11.0   2.0   \n",
            "3    0.8      131.0      6.0  ...     1216.0    1786.0  2769.0  16.0   8.0   \n",
            "4    0.6      141.0      2.0  ...     1208.0    1212.0  1411.0   8.0   2.0   \n",
            "\n",
            "   talk_time  three_g  touch_screen  wifi  price_range  \n",
            "0         19        0             0     1            1  \n",
            "1          7        1             1     0            2  \n",
            "2          9        1             1     0            2  \n",
            "3         11        1             0     0            2  \n",
            "4         15        1             1     0            1  \n",
            "\n",
            "[5 rows x 21 columns]\n"
          ]
        }
      ],
      "source": [
        "train_df = pd.read_csv(r\"C:\\Users\\DELL\\maids\\python\\data\\train.csv\")\n",
        "test_df = pd.read_csv(r\"C:\\Users\\DELL\\maids\\python\\data\\test.csv\")\n",
        "print(train_df.head())\n"
      ]
    },
    {
      "cell_type": "code",
      "execution_count": 85,
      "metadata": {},
      "outputs": [
        {
          "data": {
            "text/html": [
              "<div>\n",
              "<style scoped>\n",
              "    .dataframe tbody tr th:only-of-type {\n",
              "        vertical-align: middle;\n",
              "    }\n",
              "\n",
              "    .dataframe tbody tr th {\n",
              "        vertical-align: top;\n",
              "    }\n",
              "\n",
              "    .dataframe thead th {\n",
              "        text-align: right;\n",
              "    }\n",
              "</style>\n",
              "<table border=\"1\" class=\"dataframe\">\n",
              "  <thead>\n",
              "    <tr style=\"text-align: right;\">\n",
              "      <th></th>\n",
              "      <th>battery_power</th>\n",
              "      <th>blue</th>\n",
              "      <th>clock_speed</th>\n",
              "      <th>dual_sim</th>\n",
              "      <th>fc</th>\n",
              "      <th>four_g</th>\n",
              "      <th>int_memory</th>\n",
              "      <th>m_dep</th>\n",
              "      <th>mobile_wt</th>\n",
              "      <th>n_cores</th>\n",
              "      <th>...</th>\n",
              "      <th>px_height</th>\n",
              "      <th>px_width</th>\n",
              "      <th>ram</th>\n",
              "      <th>sc_h</th>\n",
              "      <th>sc_w</th>\n",
              "      <th>talk_time</th>\n",
              "      <th>three_g</th>\n",
              "      <th>touch_screen</th>\n",
              "      <th>wifi</th>\n",
              "      <th>price_range</th>\n",
              "    </tr>\n",
              "  </thead>\n",
              "  <tbody>\n",
              "    <tr>\n",
              "      <th>count</th>\n",
              "      <td>2000.000000</td>\n",
              "      <td>2000.0000</td>\n",
              "      <td>2000.000000</td>\n",
              "      <td>2000.000000</td>\n",
              "      <td>1995.000000</td>\n",
              "      <td>1995.000000</td>\n",
              "      <td>1995.000000</td>\n",
              "      <td>1995.000000</td>\n",
              "      <td>1996.000000</td>\n",
              "      <td>1996.000000</td>\n",
              "      <td>...</td>\n",
              "      <td>1996.000000</td>\n",
              "      <td>1998.000000</td>\n",
              "      <td>1998.000000</td>\n",
              "      <td>1999.000000</td>\n",
              "      <td>1999.000000</td>\n",
              "      <td>2000.000000</td>\n",
              "      <td>2000.000000</td>\n",
              "      <td>2000.000000</td>\n",
              "      <td>2000.000000</td>\n",
              "      <td>2000.000000</td>\n",
              "    </tr>\n",
              "    <tr>\n",
              "      <th>mean</th>\n",
              "      <td>1238.518500</td>\n",
              "      <td>0.4950</td>\n",
              "      <td>1.522250</td>\n",
              "      <td>0.509500</td>\n",
              "      <td>4.310276</td>\n",
              "      <td>0.521303</td>\n",
              "      <td>32.048120</td>\n",
              "      <td>0.502256</td>\n",
              "      <td>140.266533</td>\n",
              "      <td>4.518036</td>\n",
              "      <td>...</td>\n",
              "      <td>644.651804</td>\n",
              "      <td>1251.287788</td>\n",
              "      <td>2124.262262</td>\n",
              "      <td>12.303652</td>\n",
              "      <td>5.766383</td>\n",
              "      <td>11.011000</td>\n",
              "      <td>0.761500</td>\n",
              "      <td>0.503000</td>\n",
              "      <td>0.507000</td>\n",
              "      <td>1.500000</td>\n",
              "    </tr>\n",
              "    <tr>\n",
              "      <th>std</th>\n",
              "      <td>439.418206</td>\n",
              "      <td>0.5001</td>\n",
              "      <td>0.816004</td>\n",
              "      <td>0.500035</td>\n",
              "      <td>4.335766</td>\n",
              "      <td>0.499671</td>\n",
              "      <td>18.146476</td>\n",
              "      <td>0.288530</td>\n",
              "      <td>35.384676</td>\n",
              "      <td>2.288946</td>\n",
              "      <td>...</td>\n",
              "      <td>443.355443</td>\n",
              "      <td>432.352930</td>\n",
              "      <td>1085.273372</td>\n",
              "      <td>4.212373</td>\n",
              "      <td>4.357400</td>\n",
              "      <td>5.463955</td>\n",
              "      <td>0.426273</td>\n",
              "      <td>0.500116</td>\n",
              "      <td>0.500076</td>\n",
              "      <td>1.118314</td>\n",
              "    </tr>\n",
              "    <tr>\n",
              "      <th>min</th>\n",
              "      <td>501.000000</td>\n",
              "      <td>0.0000</td>\n",
              "      <td>0.500000</td>\n",
              "      <td>0.000000</td>\n",
              "      <td>0.000000</td>\n",
              "      <td>0.000000</td>\n",
              "      <td>2.000000</td>\n",
              "      <td>0.100000</td>\n",
              "      <td>80.000000</td>\n",
              "      <td>1.000000</td>\n",
              "      <td>...</td>\n",
              "      <td>0.000000</td>\n",
              "      <td>500.000000</td>\n",
              "      <td>256.000000</td>\n",
              "      <td>5.000000</td>\n",
              "      <td>0.000000</td>\n",
              "      <td>2.000000</td>\n",
              "      <td>0.000000</td>\n",
              "      <td>0.000000</td>\n",
              "      <td>0.000000</td>\n",
              "      <td>0.000000</td>\n",
              "    </tr>\n",
              "    <tr>\n",
              "      <th>25%</th>\n",
              "      <td>851.750000</td>\n",
              "      <td>0.0000</td>\n",
              "      <td>0.700000</td>\n",
              "      <td>0.000000</td>\n",
              "      <td>1.000000</td>\n",
              "      <td>0.000000</td>\n",
              "      <td>16.000000</td>\n",
              "      <td>0.200000</td>\n",
              "      <td>109.000000</td>\n",
              "      <td>3.000000</td>\n",
              "      <td>...</td>\n",
              "      <td>282.000000</td>\n",
              "      <td>874.250000</td>\n",
              "      <td>1206.500000</td>\n",
              "      <td>9.000000</td>\n",
              "      <td>2.000000</td>\n",
              "      <td>6.000000</td>\n",
              "      <td>1.000000</td>\n",
              "      <td>0.000000</td>\n",
              "      <td>0.000000</td>\n",
              "      <td>0.750000</td>\n",
              "    </tr>\n",
              "    <tr>\n",
              "      <th>50%</th>\n",
              "      <td>1226.000000</td>\n",
              "      <td>0.0000</td>\n",
              "      <td>1.500000</td>\n",
              "      <td>1.000000</td>\n",
              "      <td>3.000000</td>\n",
              "      <td>1.000000</td>\n",
              "      <td>32.000000</td>\n",
              "      <td>0.500000</td>\n",
              "      <td>141.000000</td>\n",
              "      <td>4.000000</td>\n",
              "      <td>...</td>\n",
              "      <td>564.000000</td>\n",
              "      <td>1247.000000</td>\n",
              "      <td>2147.500000</td>\n",
              "      <td>12.000000</td>\n",
              "      <td>5.000000</td>\n",
              "      <td>11.000000</td>\n",
              "      <td>1.000000</td>\n",
              "      <td>1.000000</td>\n",
              "      <td>1.000000</td>\n",
              "      <td>1.500000</td>\n",
              "    </tr>\n",
              "    <tr>\n",
              "      <th>75%</th>\n",
              "      <td>1615.250000</td>\n",
              "      <td>1.0000</td>\n",
              "      <td>2.200000</td>\n",
              "      <td>1.000000</td>\n",
              "      <td>7.000000</td>\n",
              "      <td>1.000000</td>\n",
              "      <td>48.000000</td>\n",
              "      <td>0.800000</td>\n",
              "      <td>170.000000</td>\n",
              "      <td>7.000000</td>\n",
              "      <td>...</td>\n",
              "      <td>947.250000</td>\n",
              "      <td>1633.000000</td>\n",
              "      <td>3065.500000</td>\n",
              "      <td>16.000000</td>\n",
              "      <td>9.000000</td>\n",
              "      <td>16.000000</td>\n",
              "      <td>1.000000</td>\n",
              "      <td>1.000000</td>\n",
              "      <td>1.000000</td>\n",
              "      <td>2.250000</td>\n",
              "    </tr>\n",
              "    <tr>\n",
              "      <th>max</th>\n",
              "      <td>1998.000000</td>\n",
              "      <td>1.0000</td>\n",
              "      <td>3.000000</td>\n",
              "      <td>1.000000</td>\n",
              "      <td>19.000000</td>\n",
              "      <td>1.000000</td>\n",
              "      <td>64.000000</td>\n",
              "      <td>1.000000</td>\n",
              "      <td>200.000000</td>\n",
              "      <td>8.000000</td>\n",
              "      <td>...</td>\n",
              "      <td>1960.000000</td>\n",
              "      <td>1998.000000</td>\n",
              "      <td>3998.000000</td>\n",
              "      <td>19.000000</td>\n",
              "      <td>18.000000</td>\n",
              "      <td>20.000000</td>\n",
              "      <td>1.000000</td>\n",
              "      <td>1.000000</td>\n",
              "      <td>1.000000</td>\n",
              "      <td>3.000000</td>\n",
              "    </tr>\n",
              "  </tbody>\n",
              "</table>\n",
              "<p>8 rows × 21 columns</p>\n",
              "</div>"
            ],
            "text/plain": [
              "       battery_power       blue  clock_speed     dual_sim           fc  \\\n",
              "count    2000.000000  2000.0000  2000.000000  2000.000000  1995.000000   \n",
              "mean     1238.518500     0.4950     1.522250     0.509500     4.310276   \n",
              "std       439.418206     0.5001     0.816004     0.500035     4.335766   \n",
              "min       501.000000     0.0000     0.500000     0.000000     0.000000   \n",
              "25%       851.750000     0.0000     0.700000     0.000000     1.000000   \n",
              "50%      1226.000000     0.0000     1.500000     1.000000     3.000000   \n",
              "75%      1615.250000     1.0000     2.200000     1.000000     7.000000   \n",
              "max      1998.000000     1.0000     3.000000     1.000000    19.000000   \n",
              "\n",
              "            four_g   int_memory        m_dep    mobile_wt      n_cores  ...  \\\n",
              "count  1995.000000  1995.000000  1995.000000  1996.000000  1996.000000  ...   \n",
              "mean      0.521303    32.048120     0.502256   140.266533     4.518036  ...   \n",
              "std       0.499671    18.146476     0.288530    35.384676     2.288946  ...   \n",
              "min       0.000000     2.000000     0.100000    80.000000     1.000000  ...   \n",
              "25%       0.000000    16.000000     0.200000   109.000000     3.000000  ...   \n",
              "50%       1.000000    32.000000     0.500000   141.000000     4.000000  ...   \n",
              "75%       1.000000    48.000000     0.800000   170.000000     7.000000  ...   \n",
              "max       1.000000    64.000000     1.000000   200.000000     8.000000  ...   \n",
              "\n",
              "         px_height     px_width          ram         sc_h         sc_w  \\\n",
              "count  1996.000000  1998.000000  1998.000000  1999.000000  1999.000000   \n",
              "mean    644.651804  1251.287788  2124.262262    12.303652     5.766383   \n",
              "std     443.355443   432.352930  1085.273372     4.212373     4.357400   \n",
              "min       0.000000   500.000000   256.000000     5.000000     0.000000   \n",
              "25%     282.000000   874.250000  1206.500000     9.000000     2.000000   \n",
              "50%     564.000000  1247.000000  2147.500000    12.000000     5.000000   \n",
              "75%     947.250000  1633.000000  3065.500000    16.000000     9.000000   \n",
              "max    1960.000000  1998.000000  3998.000000    19.000000    18.000000   \n",
              "\n",
              "         talk_time      three_g  touch_screen         wifi  price_range  \n",
              "count  2000.000000  2000.000000   2000.000000  2000.000000  2000.000000  \n",
              "mean     11.011000     0.761500      0.503000     0.507000     1.500000  \n",
              "std       5.463955     0.426273      0.500116     0.500076     1.118314  \n",
              "min       2.000000     0.000000      0.000000     0.000000     0.000000  \n",
              "25%       6.000000     1.000000      0.000000     0.000000     0.750000  \n",
              "50%      11.000000     1.000000      1.000000     1.000000     1.500000  \n",
              "75%      16.000000     1.000000      1.000000     1.000000     2.250000  \n",
              "max      20.000000     1.000000      1.000000     1.000000     3.000000  \n",
              "\n",
              "[8 rows x 21 columns]"
            ]
          },
          "execution_count": 85,
          "metadata": {},
          "output_type": "execute_result"
        }
      ],
      "source": [
        "train_df.describe()"
      ]
    },
    {
      "cell_type": "code",
      "execution_count": 86,
      "metadata": {
        "colab": {
          "base_uri": "https://localhost:8080/"
        },
        "id": "01MJZLdf14Wl",
        "outputId": "289c2d3f-16e0-4a37-fff8-b930919058e9"
      },
      "outputs": [
        {
          "name": "stdout",
          "output_type": "stream",
          "text": [
            "Categorical columns:\n",
            "['blue', 'dual_sim', 'four_g', 'three_g', 'touch_screen', 'wifi']\n",
            "\n",
            "Numerical columns:\n",
            "['battery_power', 'clock_speed', 'fc', 'int_memory', 'm_dep', 'mobile_wt', 'n_cores', 'pc', 'px_height', 'px_width', 'ram', 'sc_h', 'sc_w', 'talk_time']\n"
          ]
        }
      ],
      "source": [
        "\n",
        "columns = [\n",
        "    'id', 'battery_power', 'blue', 'clock_speed', 'dual_sim', 'fc', 'four_g',\n",
        "    'int_memory', 'm_dep', 'mobile_wt', 'n_cores', 'pc', 'px_height', 'px_width',\n",
        "    'ram', 'sc_h', 'sc_w', 'talk_time', 'three_g', 'touch_screen', 'wifi', 'price_range'\n",
        "]\n",
        "\n",
        "categorical_cols = [\n",
        "    'blue', 'dual_sim', 'four_g', 'three_g', 'touch_screen', 'wifi'\n",
        "]\n",
        "\n",
        "numerical_cols = [\n",
        "    col for col in columns if col not in ['id', 'price_range'] and col not in categorical_cols\n",
        "]\n",
        "\n",
        "print(\"Categorical columns:\")\n",
        "print(categorical_cols)\n",
        "\n",
        "print(\"\\nNumerical columns:\")\n",
        "print(numerical_cols)\n"
      ]
    },
    {
      "cell_type": "markdown",
      "metadata": {
        "id": "MinFcwU8v4-j"
      },
      "source": [
        "Handling missing values"
      ]
    },
    {
      "cell_type": "code",
      "execution_count": 87,
      "metadata": {},
      "outputs": [
        {
          "name": "stdout",
          "output_type": "stream",
          "text": [
            "<class 'pandas.core.frame.DataFrame'>\n",
            "RangeIndex: 2000 entries, 0 to 1999\n",
            "Data columns (total 21 columns):\n",
            " #   Column         Non-Null Count  Dtype  \n",
            "---  ------         --------------  -----  \n",
            " 0   battery_power  2000 non-null   int64  \n",
            " 1   blue           2000 non-null   int64  \n",
            " 2   clock_speed    2000 non-null   float64\n",
            " 3   dual_sim       2000 non-null   int64  \n",
            " 4   fc             1995 non-null   float64\n",
            " 5   four_g         1995 non-null   float64\n",
            " 6   int_memory     1995 non-null   float64\n",
            " 7   m_dep          1995 non-null   float64\n",
            " 8   mobile_wt      1996 non-null   float64\n",
            " 9   n_cores        1996 non-null   float64\n",
            " 10  pc             1995 non-null   float64\n",
            " 11  px_height      1996 non-null   float64\n",
            " 12  px_width       1998 non-null   float64\n",
            " 13  ram            1998 non-null   float64\n",
            " 14  sc_h           1999 non-null   float64\n",
            " 15  sc_w           1999 non-null   float64\n",
            " 16  talk_time      2000 non-null   int64  \n",
            " 17  three_g        2000 non-null   int64  \n",
            " 18  touch_screen   2000 non-null   int64  \n",
            " 19  wifi           2000 non-null   int64  \n",
            " 20  price_range    2000 non-null   int64  \n",
            "dtypes: float64(13), int64(8)\n",
            "memory usage: 328.3 KB\n",
            "None\n"
          ]
        }
      ],
      "source": [
        "print(train_df.info())\n"
      ]
    },
    {
      "cell_type": "markdown",
      "metadata": {},
      "source": [
        "There are some missing values in the dataset. We'll fill numerical data with the mean of the column and categorical data with the most frequent value in the column & We'll use Label encoding to convert categorical data to a suitable format. Note that we used label encoding to fill in the missing categorical data, it wouldnt have been necessary if the data were not binary."
      ]
    },
    {
      "cell_type": "code",
      "execution_count": 88,
      "metadata": {
        "colab": {
          "base_uri": "https://localhost:8080/"
        },
        "id": "s20AfIxhv7fq",
        "outputId": "adb35e0c-289b-478a-cf8e-b9df50c06e9e"
      },
      "outputs": [
        {
          "name": "stdout",
          "output_type": "stream",
          "text": [
            "<class 'pandas.core.frame.DataFrame'>\n",
            "RangeIndex: 2000 entries, 0 to 1999\n",
            "Data columns (total 21 columns):\n",
            " #   Column         Non-Null Count  Dtype  \n",
            "---  ------         --------------  -----  \n",
            " 0   battery_power  2000 non-null   float64\n",
            " 1   blue           2000 non-null   int64  \n",
            " 2   clock_speed    2000 non-null   float64\n",
            " 3   dual_sim       2000 non-null   int64  \n",
            " 4   fc             2000 non-null   float64\n",
            " 5   four_g         2000 non-null   int64  \n",
            " 6   int_memory     2000 non-null   float64\n",
            " 7   m_dep          2000 non-null   float64\n",
            " 8   mobile_wt      2000 non-null   float64\n",
            " 9   n_cores        2000 non-null   float64\n",
            " 10  pc             2000 non-null   float64\n",
            " 11  px_height      2000 non-null   float64\n",
            " 12  px_width       2000 non-null   float64\n",
            " 13  ram            2000 non-null   float64\n",
            " 14  sc_h           2000 non-null   float64\n",
            " 15  sc_w           2000 non-null   float64\n",
            " 16  talk_time      2000 non-null   float64\n",
            " 17  three_g        2000 non-null   int64  \n",
            " 18  touch_screen   2000 non-null   int64  \n",
            " 19  wifi           2000 non-null   int64  \n",
            " 20  price_range    2000 non-null   int64  \n",
            "dtypes: float64(14), int64(7)\n",
            "memory usage: 328.3 KB\n",
            "None\n"
          ]
        }
      ],
      "source": [
        "numerical_imputer = SimpleImputer(strategy='mean')\n",
        "train_df[numerical_cols] = numerical_imputer.fit_transform(train_df[numerical_cols])\n",
        "test_df[numerical_cols] = numerical_imputer.transform(test_df[numerical_cols])\n",
        "test_df['price_range'] = 0 \n",
        "\n",
        "if not categorical_cols:\n",
        "    categorical_imputer = SimpleImputer(strategy='most_frequent')\n",
        "    train_df[categorical_cols] = categorical_imputer.fit_transform(train_df[categorical_cols])\n",
        "    test_df[categorical_cols] = categorical_imputer.transform(test_df[categorical_cols])\n",
        "\n",
        "label_encoder = LabelEncoder()\n",
        "for col in categorical_cols:\n",
        "    train_df[col] = label_encoder.fit_transform(train_df[col])\n",
        "    test_df[col] = label_encoder.transform(test_df[col])\n",
        "\n",
        "print(train_df.info())\n"
      ]
    },
    {
      "cell_type": "markdown",
      "metadata": {},
      "source": [
        "Correlation Heat Map"
      ]
    },
    {
      "cell_type": "code",
      "execution_count": 97,
      "metadata": {},
      "outputs": [
        {
          "data": {
            "image/png": "[encoded data removed]",
            "text/plain": [
              "<Figure size 900x700 with 2 Axes>"
            ]
          },
          "metadata": {},
          "output_type": "display_data"
        }
      ],
      "source": [
        "corr = train_df.corr()\n",
        "\n",
        "mask = np.triu(np.ones_like(corr, dtype=bool))\n",
        "\n",
        "f, ax = plt.subplots(figsize=(9, 7))\n",
        "\n",
        "cmap = sns.diverging_palette(230, 20, as_cmap=True)\n",
        "\n",
        "sns.heatmap(corr, mask=mask, cmap=cmap, vmax=.3, center=0,\n",
        "            square=True, linewidths=.5, cbar_kws={\"shrink\": .5})\n",
        "\n",
        "plt.show()"
      ]
    },
    {
      "cell_type": "markdown",
      "metadata": {},
      "source": [
        "We can tell that here are no high correlations between the features, but we can say note a few things:\n",
        "\n",
        "1. Price gets high when the ram increases\n",
        "2. Every 4G device has 3G \n",
        "3. front camera high pixels and primary camera pixels ar correlated"
      ]
    },
    {
      "cell_type": "markdown",
      "metadata": {},
      "source": [
        "## Training Possible Models"
      ]
    },
    {
      "cell_type": "code",
      "execution_count": 90,
      "metadata": {
        "id": "_kw7lSY02Z7q"
      },
      "outputs": [],
      "source": [
        "X = train_df.drop(columns=['price_range'])\n",
        "y = train_df['price_range']\n",
        "\n",
        "X_train, X_val, y_train, y_val = train_test_split(X, y, test_size=0.2, random_state=42)"
      ]
    },
    {
      "cell_type": "markdown",
      "metadata": {},
      "source": [
        "Random Forest"
      ]
    },
    {
      "cell_type": "code",
      "execution_count": 91,
      "metadata": {},
      "outputs": [
        {
          "name": "stdout",
          "output_type": "stream",
          "text": [
            "Random Forest Validation Accuracy: 0.8925\n"
          ]
        }
      ],
      "source": [
        "rf_classifier = RandomForestClassifier(random_state=42)\n",
        "rf_classifier.fit(X_train, y_train)\n",
        "rf_val_preds = rf_classifier.predict(X_val)\n",
        "rf_val_accuracy = accuracy_score(y_val, rf_val_preds)\n",
        "print(\"Random Forest Validation Accuracy:\", rf_val_accuracy)\n",
        "\n"
      ]
    },
    {
      "cell_type": "markdown",
      "metadata": {},
      "source": [
        "Gradient Boosting"
      ]
    },
    {
      "cell_type": "code",
      "execution_count": 92,
      "metadata": {},
      "outputs": [
        {
          "name": "stdout",
          "output_type": "stream",
          "text": [
            "Gradient Boosting Validation Accuracy: 0.9025\n"
          ]
        }
      ],
      "source": [
        "gb_classifier = GradientBoostingClassifier(random_state=42)\n",
        "gb_classifier.fit(X_train, y_train)\n",
        "gb_val_preds = gb_classifier.predict(X_val)\n",
        "gb_val_accuracy = accuracy_score(y_val, gb_val_preds)\n",
        "print(\"Gradient Boosting Validation Accuracy:\", gb_val_accuracy)"
      ]
    },
    {
      "cell_type": "markdown",
      "metadata": {},
      "source": [
        "SVM"
      ]
    },
    {
      "cell_type": "code",
      "execution_count": 93,
      "metadata": {},
      "outputs": [
        {
          "name": "stdout",
          "output_type": "stream",
          "text": [
            "SVM Validation Accuracy: 0.965\n"
          ]
        }
      ],
      "source": [
        "svm_classifier = SVC(random_state=42)\n",
        "svm_classifier.fit(X_train, y_train)\n",
        "svm_val_preds = svm_classifier.predict(X_val)\n",
        "svm_val_accuracy = accuracy_score(y_val, svm_val_preds)\n",
        "print(\"SVM Validation Accuracy:\", svm_val_accuracy)\n"
      ]
    },
    {
      "cell_type": "markdown",
      "metadata": {},
      "source": [
        "## Evaluation Metrics for the three models"
      ]
    },
    {
      "cell_type": "code",
      "execution_count": 102,
      "metadata": {},
      "outputs": [
        {
          "name": "stdout",
          "output_type": "stream",
          "text": [
            "                   Accuracy  Precision  Recall  F1 Score\n",
            "Random Forest        0.8925   0.895748  0.8925  0.893214\n",
            "Gradient Boosting    0.9025   0.904411  0.9025  0.903116\n",
            "SVM                  0.9650   0.965478  0.9650  0.965036\n"
          ]
        }
      ],
      "source": [
        "\n",
        "models = {'Random Forest': rf_classifier, 'Gradient Boosting': gb_classifier, 'SVM': svm_classifier}\n",
        "metrics = {}\n",
        "\n",
        "for model_name, model in models.items():\n",
        "    y_pred = model.predict(X_val)\n",
        "    metrics[model_name] = {\n",
        "        'Accuracy': accuracy_score(y_val, y_pred),\n",
        "        'Precision': precision_score(y_val, y_pred, average='weighted'),\n",
        "        'Recall': recall_score(y_val, y_pred, average='weighted'),\n",
        "        'F1 Score': f1_score(y_val, y_pred, average='weighted'),\n",
        "    }\n",
        "\n",
        "metrics_df = pd.DataFrame(metrics).T\n",
        "print(metrics_df)"
      ]
    },
    {
      "cell_type": "markdown",
      "metadata": {},
      "source": [
        "We wont need to perform any hyperparameter tuning since the three models already perform remarkeably well. However we'll choose SVM as it has proven to be better in many use cases"
      ]
    },
    {
      "cell_type": "markdown",
      "metadata": {},
      "source": [
        "## Saving the Model"
      ]
    },
    {
      "cell_type": "code",
      "execution_count": 94,
      "metadata": {},
      "outputs": [
        {
          "data": {
            "text/plain": [
              "['svm_classifier.pkl']"
            ]
          },
          "execution_count": 94,
          "metadata": {},
          "output_type": "execute_result"
        }
      ],
      "source": [
        "from joblib import dump\n",
        "\n",
        "dump(svm_classifier, 'svm_classifier.pkl')"
      ]
    },
    {
      "cell_type": "markdown",
      "metadata": {},
      "source": [
        "## Prediction API"
      ]
    },
    {
      "cell_type": "code",
      "execution_count": 95,
      "metadata": {},
      "outputs": [
        {
          "name": "stdout",
          "output_type": "stream",
          "text": [
            " * Serving Flask app '__main__'\n",
            " * Debug mode: off\n"
          ]
        },
        {
          "name": "stderr",
          "output_type": "stream",
          "text": [
            "WARNING: This is a development server. Do not use it in a production deployment. Use a production WSGI server instead.\n",
            " * Running on http://127.0.0.1:5000\n",
            "Press CTRL+C to quit\n"
          ]
        }
      ],
      "source": [
        "app = Flask(__name__)\n",
        "\n",
        "model = joblib.load('svm_classifier.pkl')\n",
        "\n",
        "@app.route('/predict', methods=['POST'])\n",
        "def predict():\n",
        "    specs = request.json\n",
        "    specs.pop('id', None)\n",
        "    specs.pop('price_range', None)\n",
        "    specs.pop('mdep', None)\n",
        "    specs.pop('ncores', None)\n",
        "    specs_array = np.array([list(specs.values())])\n",
        "    predicted_price = model.predict(specs_array)\n",
        "    predicted_price_list = predicted_price.tolist()\n",
        "    return jsonify({'predictedPrice': predicted_price_list})\n",
        "\n",
        "if __name__ == '__main__':\n",
        "    app.run(port=5000)"
      ]
    }
  ],
  "metadata": {
    "colab": {
      "provenance": []
    },
    "kernelspec": {
      "display_name": "Python 3",
      "name": "python3"
    },
    "language_info": {
      "codemirror_mode": {
        "name": "ipython",
        "version": 3
      },
      "file_extension": ".py",
      "mimetype": "text/x-python",
      "name": "python",
      "nbconvert_exporter": "python",
      "pygments_lexer": "ipython3",
      "version": "3.11.5"
    }
  },
  "nbformat": 4,
  "nbformat_minor": 0
}
