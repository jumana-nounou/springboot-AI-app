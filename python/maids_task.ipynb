{
  "cells": [
    {
      "cell_type": "markdown",
      "metadata": {
        "id": "0obe796uu_DG"
      },
      "source": [
        "## Imports"
      ]
    },
    {
      "cell_type": "code",
      "execution_count": 18,
      "metadata": {
        "id": "9UO1mN4ztUwC"
      },
      "outputs": [],
      "source": [
        "import pandas as pd\n",
        "from sklearn.impute import SimpleImputer\n",
        "from sklearn.preprocessing import LabelEncoder\n",
        "import pandas as pd\n",
        "from sklearn.model_selection import train_test_split\n",
        "from sklearn.ensemble import RandomForestClassifier, GradientBoostingClassifier\n",
        "from sklearn.svm import SVC\n",
        "from sklearn.metrics import accuracy_score\n"
      ]
    },
    {
      "cell_type": "markdown",
      "metadata": {
        "id": "ViuCqaPhvH_G"
      },
      "source": [
        "## Data Preprocessing"
      ]
    },
    {
      "cell_type": "code",
      "execution_count": 19,
      "metadata": {
        "colab": {
          "base_uri": "https://localhost:8080/"
        },
        "id": "qmVuv-c9vHIr",
        "outputId": "49eaca4c-9d67-4aa2-949d-3a0cc11c106f"
      },
      "outputs": [
        {
          "name": "stdout",
          "output_type": "stream",
          "text": [
            "   battery_power  blue  clock_speed  dual_sim    fc  four_g  int_memory  \\\n",
            "0            842     0          2.2         0   1.0     0.0         7.0   \n",
            "1           1021     1          0.5         1   0.0     1.0        53.0   \n",
            "2            563     1          0.5         1   2.0     1.0        41.0   \n",
            "3            615     1          2.5         0   0.0     0.0        10.0   \n",
            "4           1821     1          1.2         0  13.0     1.0        44.0   \n",
            "\n",
            "   m_dep  mobile_wt  n_cores  ...  px_height  px_width     ram  sc_h  sc_w  \\\n",
            "0    0.6      188.0      2.0  ...       20.0     756.0  2549.0   9.0   7.0   \n",
            "1    0.7      136.0      3.0  ...      905.0    1988.0  2631.0  17.0   3.0   \n",
            "2    0.9      145.0      5.0  ...     1263.0    1716.0  2603.0  11.0   2.0   \n",
            "3    0.8      131.0      6.0  ...     1216.0    1786.0  2769.0  16.0   8.0   \n",
            "4    0.6      141.0      2.0  ...     1208.0    1212.0  1411.0   8.0   2.0   \n",
            "\n",
            "   talk_time  three_g  touch_screen  wifi  price_range  \n",
            "0         19        0             0     1            1  \n",
            "1          7        1             1     0            2  \n",
            "2          9        1             1     0            2  \n",
            "3         11        1             0     0            2  \n",
            "4         15        1             1     0            1  \n",
            "\n",
            "[5 rows x 21 columns]\n"
          ]
        }
      ],
      "source": [
        "train_df = pd.read_csv(r\"C:\\Users\\DELL\\maids\\python\\data\\train.csv\")\n",
        "test_df = pd.read_csv(r\"C:\\Users\\DELL\\maids\\python\\data\\test.csv\")\n",
        "print(train_df.head())\n"
      ]
    },
    {
      "cell_type": "code",
      "execution_count": 20,
      "metadata": {
        "colab": {
          "base_uri": "https://localhost:8080/"
        },
        "id": "01MJZLdf14Wl",
        "outputId": "289c2d3f-16e0-4a37-fff8-b930919058e9"
      },
      "outputs": [
        {
          "name": "stdout",
          "output_type": "stream",
          "text": [
            "Categorical columns:\n",
            "['blue', 'dual_sim', 'four_g', 'three_g', 'touch_screen', 'wifi']\n",
            "\n",
            "Numerical columns:\n",
            "['battery_power', 'clock_speed', 'fc', 'int_memory', 'm_dep', 'mobile_wt', 'n_cores', 'pc', 'px_height', 'px_width', 'ram', 'sc_h', 'sc_w', 'talk_time']\n"
          ]
        }
      ],
      "source": [
        "\n",
        "columns = [\n",
        "    'id', 'battery_power', 'blue', 'clock_speed', 'dual_sim', 'fc', 'four_g',\n",
        "    'int_memory', 'm_dep', 'mobile_wt', 'n_cores', 'pc', 'px_height', 'px_width',\n",
        "    'ram', 'sc_h', 'sc_w', 'talk_time', 'three_g', 'touch_screen', 'wifi', 'price_range'\n",
        "]\n",
        "\n",
        "categorical_cols = [\n",
        "    'blue', 'dual_sim', 'four_g', 'three_g', 'touch_screen', 'wifi'\n",
        "]\n",
        "\n",
        "numerical_cols = [\n",
        "    col for col in columns if col not in ['id', 'price_range'] and col not in categorical_cols\n",
        "]\n",
        "\n",
        "print(\"Categorical columns:\")\n",
        "print(categorical_cols)\n",
        "\n",
        "print(\"\\nNumerical columns:\")\n",
        "print(numerical_cols)\n"
      ]
    },
    {
      "cell_type": "markdown",
      "metadata": {
        "id": "MinFcwU8v4-j"
      },
      "source": [
        "Handling missing values"
      ]
    },
    {
      "cell_type": "code",
      "execution_count": 21,
      "metadata": {},
      "outputs": [
        {
          "name": "stdout",
          "output_type": "stream",
          "text": [
            "<class 'pandas.core.frame.DataFrame'>\n",
            "RangeIndex: 2000 entries, 0 to 1999\n",
            "Data columns (total 21 columns):\n",
            " #   Column         Non-Null Count  Dtype  \n",
            "---  ------         --------------  -----  \n",
            " 0   battery_power  2000 non-null   int64  \n",
            " 1   blue           2000 non-null   int64  \n",
            " 2   clock_speed    2000 non-null   float64\n",
            " 3   dual_sim       2000 non-null   int64  \n",
            " 4   fc             1995 non-null   float64\n",
            " 5   four_g         1995 non-null   float64\n",
            " 6   int_memory     1995 non-null   float64\n",
            " 7   m_dep          1995 non-null   float64\n",
            " 8   mobile_wt      1996 non-null   float64\n",
            " 9   n_cores        1996 non-null   float64\n",
            " 10  pc             1995 non-null   float64\n",
            " 11  px_height      1996 non-null   float64\n",
            " 12  px_width       1998 non-null   float64\n",
            " 13  ram            1998 non-null   float64\n",
            " 14  sc_h           1999 non-null   float64\n",
            " 15  sc_w           1999 non-null   float64\n",
            " 16  talk_time      2000 non-null   int64  \n",
            " 17  three_g        2000 non-null   int64  \n",
            " 18  touch_screen   2000 non-null   int64  \n",
            " 19  wifi           2000 non-null   int64  \n",
            " 20  price_range    2000 non-null   int64  \n",
            "dtypes: float64(13), int64(8)\n",
            "memory usage: 328.3 KB\n",
            "None\n"
          ]
        }
      ],
      "source": [
        "print(train_df.info())\n"
      ]
    },
    {
      "cell_type": "code",
      "execution_count": 22,
      "metadata": {
        "colab": {
          "base_uri": "https://localhost:8080/"
        },
        "id": "s20AfIxhv7fq",
        "outputId": "adb35e0c-289b-478a-cf8e-b9df50c06e9e"
      },
      "outputs": [
        {
          "name": "stdout",
          "output_type": "stream",
          "text": [
            "<class 'pandas.core.frame.DataFrame'>\n",
            "RangeIndex: 2000 entries, 0 to 1999\n",
            "Data columns (total 21 columns):\n",
            " #   Column         Non-Null Count  Dtype  \n",
            "---  ------         --------------  -----  \n",
            " 0   battery_power  2000 non-null   float64\n",
            " 1   blue           2000 non-null   int64  \n",
            " 2   clock_speed    2000 non-null   float64\n",
            " 3   dual_sim       2000 non-null   int64  \n",
            " 4   fc             2000 non-null   float64\n",
            " 5   four_g         2000 non-null   int64  \n",
            " 6   int_memory     2000 non-null   float64\n",
            " 7   m_dep          2000 non-null   float64\n",
            " 8   mobile_wt      2000 non-null   float64\n",
            " 9   n_cores        2000 non-null   float64\n",
            " 10  pc             2000 non-null   float64\n",
            " 11  px_height      2000 non-null   float64\n",
            " 12  px_width       2000 non-null   float64\n",
            " 13  ram            2000 non-null   float64\n",
            " 14  sc_h           2000 non-null   float64\n",
            " 15  sc_w           2000 non-null   float64\n",
            " 16  talk_time      2000 non-null   float64\n",
            " 17  three_g        2000 non-null   int64  \n",
            " 18  touch_screen   2000 non-null   int64  \n",
            " 19  wifi           2000 non-null   int64  \n",
            " 20  price_range    2000 non-null   int64  \n",
            "dtypes: float64(14), int64(7)\n",
            "memory usage: 328.3 KB\n",
            "None\n"
          ]
        }
      ],
      "source": [
        "numerical_imputer = SimpleImputer(strategy='mean')\n",
        "train_df[numerical_cols] = numerical_imputer.fit_transform(train_df[numerical_cols])\n",
        "test_df[numerical_cols] = numerical_imputer.transform(test_df[numerical_cols])\n",
        "test_df['price_range'] = 0 \n",
        "\n",
        "if not categorical_cols:\n",
        "    categorical_imputer = SimpleImputer(strategy='most_frequent')\n",
        "    train_df[categorical_cols] = categorical_imputer.fit_transform(train_df[categorical_cols])\n",
        "    test_df[categorical_cols] = categorical_imputer.transform(test_df[categorical_cols])\n",
        "\n",
        "label_encoder = LabelEncoder()\n",
        "for col in categorical_cols:\n",
        "    train_df[col] = label_encoder.fit_transform(train_df[col])\n",
        "    test_df[col] = label_encoder.transform(test_df[col])\n",
        "\n",
        "print(train_df.info())\n"
      ]
    },
    {
      "cell_type": "markdown",
      "metadata": {},
      "source": [
        "## Training Possible Models"
      ]
    },
    {
      "cell_type": "code",
      "execution_count": 23,
      "metadata": {
        "id": "_kw7lSY02Z7q"
      },
      "outputs": [],
      "source": [
        "X = train_df.drop(columns=['price_range'])\n",
        "y = train_df['price_range']\n",
        "\n",
        "X_train, X_val, y_train, y_val = train_test_split(X, y, test_size=0.2, random_state=42)"
      ]
    },
    {
      "cell_type": "markdown",
      "metadata": {},
      "source": [
        "Random Forest"
      ]
    },
    {
      "cell_type": "code",
      "execution_count": 24,
      "metadata": {},
      "outputs": [
        {
          "name": "stdout",
          "output_type": "stream",
          "text": [
            "Random Forest Validation Accuracy: 0.8925\n"
          ]
        }
      ],
      "source": [
        "rf_classifier = RandomForestClassifier(random_state=42)\n",
        "rf_classifier.fit(X_train, y_train)\n",
        "rf_val_preds = rf_classifier.predict(X_val)\n",
        "rf_val_accuracy = accuracy_score(y_val, rf_val_preds)\n",
        "print(\"Random Forest Validation Accuracy:\", rf_val_accuracy)\n",
        "\n"
      ]
    },
    {
      "cell_type": "markdown",
      "metadata": {},
      "source": [
        "Gradient Boosting"
      ]
    },
    {
      "cell_type": "code",
      "execution_count": 25,
      "metadata": {},
      "outputs": [
        {
          "name": "stdout",
          "output_type": "stream",
          "text": [
            "Gradient Boosting Validation Accuracy: 0.9025\n"
          ]
        }
      ],
      "source": [
        "gb_classifier = GradientBoostingClassifier(random_state=42)\n",
        "gb_classifier.fit(X_train, y_train)\n",
        "gb_val_preds = gb_classifier.predict(X_val)\n",
        "gb_val_accuracy = accuracy_score(y_val, gb_val_preds)\n",
        "print(\"Gradient Boosting Validation Accuracy:\", gb_val_accuracy)"
      ]
    },
    {
      "cell_type": "markdown",
      "metadata": {},
      "source": [
        "SVM"
      ]
    },
    {
      "cell_type": "code",
      "execution_count": 26,
      "metadata": {},
      "outputs": [
        {
          "name": "stdout",
          "output_type": "stream",
          "text": [
            "SVM Validation Accuracy: 0.965\n"
          ]
        }
      ],
      "source": [
        "svm_classifier = SVC(random_state=42)\n",
        "svm_classifier.fit(X_train, y_train)\n",
        "svm_val_preds = svm_classifier.predict(X_val)\n",
        "svm_val_accuracy = accuracy_score(y_val, svm_val_preds)\n",
        "print(\"SVM Validation Accuracy:\", svm_val_accuracy)\n"
      ]
    },
    {
      "cell_type": "markdown",
      "metadata": {},
      "source": [
        "## Saving the Model"
      ]
    },
    {
      "cell_type": "code",
      "execution_count": 27,
      "metadata": {},
      "outputs": [
        {
          "data": {
            "text/plain": [
              "['svm_classifier.pkl']"
            ]
          },
          "execution_count": 27,
          "metadata": {},
          "output_type": "execute_result"
        }
      ],
      "source": [
        "from joblib import dump\n",
        "\n",
        "dump(svm_classifier, 'svm_classifier.pkl')"
      ]
    },
    {
      "cell_type": "markdown",
      "metadata": {},
      "source": [
        "## Prediction API"
      ]
    },
    {
      "cell_type": "code",
      "execution_count": 38,
      "metadata": {},
      "outputs": [
        {
          "name": "stdout",
          "output_type": "stream",
          "text": [
            " * Serving Flask app '__main__'\n",
            " * Debug mode: off\n"
          ]
        },
        {
          "name": "stderr",
          "output_type": "stream",
          "text": [
            "WARNING: This is a development server. Do not use it in a production deployment. Use a production WSGI server instead.\n",
            " * Running on http://127.0.0.1:5000\n",
            "Press CTRL+C to quit\n",
            "c:\\Users\\DELL\\anaconda3\\Lib\\site-packages\\sklearn\\base.py:464: UserWarning: X does not have valid feature names, but SVC was fitted with feature names\n",
            "  warnings.warn(\n",
            "127.0.0.1 - - [05/May/2024 00:16:54] \"POST /predict HTTP/1.1\" 200 -\n"
          ]
        }
      ],
      "source": [
        "from flask import Flask, request, jsonify\n",
        "import joblib\n",
        "import numpy as np\n",
        "\n",
        "app = Flask(__name__)\n",
        "\n",
        "model = joblib.load('svm_classifier.pkl')\n",
        "\n",
        "@app.route('/predict', methods=['POST'])\n",
        "def predict():\n",
        "    specs = request.json\n",
        "    specs.pop('id', None)\n",
        "    specs.pop('price_range', None)\n",
        "    specs.pop('mdep', None)\n",
        "    specs.pop('ncores', None)\n",
        "    specs_array = np.array([list(specs.values())])\n",
        "    predicted_price = model.predict(specs_array)\n",
        "    predicted_price_list = predicted_price.tolist()\n",
        "    return jsonify({'predictedPrice': predicted_price_list})\n",
        "\n",
        "if __name__ == '__main__':\n",
        "    app.run(port=5000)"
      ]
    }
  ],
  "metadata": {
    "colab": {
      "provenance": []
    },
    "kernelspec": {
      "display_name": "Python 3",
      "name": "python3"
    },
    "language_info": {
      "codemirror_mode": {
        "name": "ipython",
        "version": 3
      },
      "file_extension": ".py",
      "mimetype": "text/x-python",
      "name": "python",
      "nbconvert_exporter": "python",
      "pygments_lexer": "ipython3",
      "version": "3.11.5"
    }
  },
  "nbformat": 4,
  "nbformat_minor": 0
}
